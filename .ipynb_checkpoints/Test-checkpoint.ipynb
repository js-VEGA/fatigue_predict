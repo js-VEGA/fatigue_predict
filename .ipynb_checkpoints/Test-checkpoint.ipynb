{
 "cells": [
  {
   "cell_type": "code",
   "execution_count": null,
   "id": "7998ae2f",
   "metadata": {},
   "outputs": [],
   "source": [
    "import tensorflow as tf\n",
    "import tensorflow.compat.v1 as tf\n",
    "tf.disable_v2_behavior() \n",
    "import numpy as np"
   ]
  },
  {
   "cell_type": "code",
   "execution_count": null,
   "id": "62fcba07",
   "metadata": {},
   "outputs": [],
   "source": [
    "X = tf.placeholder(tf.float32,shape=[None,2])\n",
    "Y = tf.placeholder(tf.float32,shape=[None,1])\n",
    "W = tf.Variable(tf.random_normal([2,1]),name=\"weight\")\n",
    "b = tf.Variable(tf.random_normal([1]),name=\"bias\")"
   ]
  },
  {
   "cell_type": "code",
   "execution_count": 11,
   "id": "b3ce2173",
   "metadata": {},
   "outputs": [],
   "source": [
    "hypothesis = tf.matmul(X,W)+b"
   ]
  },
  {
   "cell_type": "code",
   "execution_count": 12,
   "id": "259179a0",
   "metadata": {},
   "outputs": [],
   "source": [
    "saver = tf.train.Saver()\n",
    "model = tf.global_variables_initializer()"
   ]
  },
  {
   "cell_type": "code",
   "execution_count": null,
   "id": "f1f877bd",
   "metadata": {},
   "outputs": [],
   "source": [
    "sleep_time = float(input('수면 시간: '))\n",
    "E_time = float(input('전자기기 사용 시간: '))"
   ]
  },
  {
   "cell_type": "code",
   "execution_count": null,
   "id": "a7c8aaa4",
   "metadata": {
    "scrolled": false
   },
   "outputs": [],
   "source": [
    "with tf.Session() as sess:\n",
    "\n",
    "    sess.run(model)\n",
    "\n",
    "    save_path = \"./saved.cpkt\"\n",
    "\n",
    "    saver.restore(sess, save_path)\n",
    "\n",
    "\n",
    "\n",
    "    # 사용자의 입력 값을 이용해 배열을 만듭니다.\n",
    "\n",
    "    data = ((sleep_time, E_time,),)\n",
    "\n",
    "    arr = np.array(data, dtype=np.float32)\n",
    "\n",
    "\n",
    "\n",
    "    # 예측을 수행한 뒤에 그 결과를 출력합니다.\n",
    "\n",
    "    x_data = arr[0:2]\n",
    "\n",
    "    dict = sess.run(hypothesis, feed_dict={X: x_data})\n",
    "\n",
    "    print(dict[0])\n",
    "\n",
    "    #먼저 원래 파일을 훈련 시킨다음에 이 단락만 실행시켜야 결과가 나옴\n",
    "    #안그러면 오류가 난다.\n",
    "    #한번에 한번씩,여러번 하면 오류 생김->다시 탭 닫고 실행해야함."
   ]
  },
  {
   "cell_type": "code",
   "execution_count": null,
   "id": "4b7f3af2",
   "metadata": {},
   "outputs": [],
   "source": []
  }
 ],
 "metadata": {
  "kernelspec": {
   "display_name": "Python 3",
   "language": "python",
   "name": "python3"
  },
  "language_info": {
   "codemirror_mode": {
    "name": "ipython",
    "version": 3
   },
   "file_extension": ".py",
   "mimetype": "text/x-python",
   "name": "python",
   "nbconvert_exporter": "python",
   "pygments_lexer": "ipython3",
   "version": "3.8.8"
  }
 },
 "nbformat": 4,
 "nbformat_minor": 5
}
