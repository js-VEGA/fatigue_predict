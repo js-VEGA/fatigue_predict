{
 "cells": [
  {
   "cell_type": "code",
   "execution_count": 1,
   "id": "7998ae2f",
   "metadata": {},
   "outputs": [
    {
     "name": "stdout",
     "output_type": "stream",
     "text": [
      "WARNING:tensorflow:From C:\\Anaconda\\lib\\site-packages\\tensorflow\\python\\compat\\v2_compat.py:107: disable_resource_variables (from tensorflow.python.ops.variable_scope) is deprecated and will be removed in a future version.\n",
      "Instructions for updating:\n",
      "non-resource variables are not supported in the long term\n"
     ]
    }
   ],
   "source": [
    "import tensorflow as tf\n",
    "import tensorflow.compat.v1 as tf\n",
    "tf.disable_v2_behavior() \n",
    "import numpy as np"
   ]
  },
  {
   "cell_type": "code",
   "execution_count": 2,
   "id": "62fcba07",
   "metadata": {},
   "outputs": [],
   "source": [
    "X = tf.placeholder(tf.float32,shape=[None,3])\n",
    "Y = tf.placeholder(tf.float32,shape=[None,1])\n",
    "W = tf.Variable(tf.random_normal([3,1],6),name=\"weight\")\n",
    "b = tf.Variable(tf.random_normal([1]),name=\"bias\")"
   ]
  },
  {
   "cell_type": "code",
   "execution_count": 3,
   "id": "b3ce2173",
   "metadata": {},
   "outputs": [],
   "source": [
    "hypothesis = tf.matmul(X,W)+b"
   ]
  },
  {
   "cell_type": "code",
   "execution_count": 4,
   "id": "259179a0",
   "metadata": {},
   "outputs": [],
   "source": [
    "saver = tf.train.Saver()\n",
    "model = tf.global_variables_initializer()"
   ]
  },
  {
   "cell_type": "code",
   "execution_count": 9,
   "id": "f1f877bd",
   "metadata": {},
   "outputs": [
    {
     "name": "stdout",
     "output_type": "stream",
     "text": [
      "충분한 수면 시간: 7\n",
      "수면 시간: 5\n",
      "전자기기 사용 시간: 10\n"
     ]
    }
   ],
   "source": [
    "enough_sleep = float(input('충분한 수면 시간: '))\n",
    "sleep_time = float(input('수면 시간: '))\n",
    "E_time = float(input('전자기기 사용 시간: '))"
   ]
  },
  {
   "cell_type": "code",
   "execution_count": 10,
   "id": "a7c8aaa4",
   "metadata": {
    "scrolled": false
   },
   "outputs": [
    {
     "name": "stdout",
     "output_type": "stream",
     "text": [
      "INFO:tensorflow:Restoring parameters from ./saved.cpkt\n",
      "[8.020916]\n"
     ]
    }
   ],
   "source": [
    "with tf.Session() as sess:\n",
    "\n",
    "    sess.run(model)\n",
    "\n",
    "    save_path = \"./saved.cpkt\"\n",
    "\n",
    "    saver.restore(sess, save_path)\n",
    "\n",
    "\n",
    "\n",
    "    # 사용자의 입력 값을 이용해 배열을 만듭니다.\n",
    "\n",
    "    data = ((enough_sleep, sleep_time, E_time,),)\n",
    "\n",
    "    arr = np.array(data, dtype=np.float32)\n",
    "\n",
    "\n",
    "\n",
    "    # 예측을 수행한 뒤에 그 결과를 출력합니다.\n",
    "\n",
    "    x_data = arr[0:3]\n",
    "\n",
    "    dict = sess.run(hypothesis, feed_dict={X: x_data})\n",
    "\n",
    "    print(dict[0])\n",
    "\n",
    "    #먼저 원래 파일을 훈련 시킨다음에 이 단락만 실행시켜야 결과가 나옴\n",
    "    #안그러면 오류가 난다.\n",
    "    #한번에 한번씩,여러번 하면 오류 생김->다시 탭 닫고 실행해야함."
   ]
  },
  {
   "cell_type": "code",
   "execution_count": null,
   "id": "3ca5b000",
   "metadata": {},
   "outputs": [],
   "source": []
  }
 ],
 "metadata": {
  "kernelspec": {
   "display_name": "Python 3",
   "language": "python",
   "name": "python3"
  },
  "language_info": {
   "codemirror_mode": {
    "name": "ipython",
    "version": 3
   },
   "file_extension": ".py",
   "mimetype": "text/x-python",
   "name": "python",
   "nbconvert_exporter": "python",
   "pygments_lexer": "ipython3",
   "version": "3.8.8"
  }
 },
 "nbformat": 4,
 "nbformat_minor": 5
}
